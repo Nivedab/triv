{
 "cells": [
  {
   "cell_type": "markdown",
   "metadata": {},
   "source": [
    "## Solutions to Task 2"
   ]
  },
  {
   "cell_type": "markdown",
   "metadata": {},
   "source": [
    "> From our server logs, you can access the raw session data, that contains information about single visits to our website (= sessions). A clickout is logged whenever a user clicks on a hotel and is redirected to the booking page. The booking field is binary and indicates if a hotel booking was logged after one of the clickouts. Have a look at the data and check if there is any connection between the booking data and other given information. Feel free to formulate hypothesis based on your findings.\n"
   ]
  },
  {
   "cell_type": "code",
   "execution_count": 151,
   "metadata": {},
   "outputs": [],
   "source": [
    "#Imports\n",
    "import IPython\n",
    "import numpy as np\n",
    "import scipy as ap\n",
    "import pandas as pd\n",
    "import matplotlib.pyplot as plt\n",
    "import sklearn as sl\n",
    "import requests as rs\n",
    "import networkx as nx\n",
    "#import BeautifulSoup as bs\n",
    "import mrjob as mj\n",
    "#import pattern as p\n",
    "import random\n",
    "from importlib import reload\n",
    "import seaborn as sns\n",
    "import pandasql as ps"
   ]
  },
  {
   "cell_type": "code",
   "execution_count": 152,
   "metadata": {},
   "outputs": [
    {
     "name": "stdout",
     "output_type": "stream",
     "text": [
      "          session session_start_text session_end_text  clickouts  booking\n",
      "0  20170503000001           06:11:53         06:15:11          3        0\n",
      "1  20170503000002           21:06:41         21:08:23          3        0\n",
      "2  20170503000003           12:03:01         12:06:02          3        0\n",
      "3  20170503000004           05:58:00         06:02:56          0        0\n",
      "4  20170503000005           09:13:43         09:17:01          1        0 \n",
      "\n",
      "session                int64\n",
      "session_start_text    object\n",
      "session_end_text      object\n",
      "clickouts              int64\n",
      "booking                int64\n",
      "dtype: object \n",
      "\n",
      "(10000, 5)\n"
     ]
    }
   ],
   "source": [
    "# reading the csv file \n",
    "url = \"/Users/niveda.sridhar/Documents/triv/session_data.csv\"\n",
    "df = pd.read_csv(url, sep=';')\n",
    "print (df.head(),\"\\n\")\n",
    "print(df.dtypes,\"\\n\")\n",
    "print(df.shape)"
   ]
  },
  {
   "cell_type": "code",
   "execution_count": 153,
   "metadata": {},
   "outputs": [
    {
     "data": {
      "text/html": [
       "<div>\n",
       "<style scoped>\n",
       "    .dataframe tbody tr th:only-of-type {\n",
       "        vertical-align: middle;\n",
       "    }\n",
       "\n",
       "    .dataframe tbody tr th {\n",
       "        vertical-align: top;\n",
       "    }\n",
       "\n",
       "    .dataframe thead th {\n",
       "        text-align: right;\n",
       "    }\n",
       "</style>\n",
       "<table border=\"1\" class=\"dataframe\">\n",
       "  <thead>\n",
       "    <tr style=\"text-align: right;\">\n",
       "      <th></th>\n",
       "      <th>session</th>\n",
       "      <th>session_start_text</th>\n",
       "      <th>session_end_text</th>\n",
       "      <th>clickouts</th>\n",
       "      <th>booking</th>\n",
       "      <th>online_time</th>\n",
       "    </tr>\n",
       "  </thead>\n",
       "  <tbody>\n",
       "    <tr>\n",
       "      <th>0</th>\n",
       "      <td>20170503000001</td>\n",
       "      <td>06:11:53</td>\n",
       "      <td>06:15:11</td>\n",
       "      <td>3</td>\n",
       "      <td>0</td>\n",
       "      <td>00:03:18</td>\n",
       "    </tr>\n",
       "    <tr>\n",
       "      <th>1</th>\n",
       "      <td>20170503000002</td>\n",
       "      <td>21:06:41</td>\n",
       "      <td>21:08:23</td>\n",
       "      <td>3</td>\n",
       "      <td>0</td>\n",
       "      <td>00:01:42</td>\n",
       "    </tr>\n",
       "    <tr>\n",
       "      <th>2</th>\n",
       "      <td>20170503000003</td>\n",
       "      <td>12:03:01</td>\n",
       "      <td>12:06:02</td>\n",
       "      <td>3</td>\n",
       "      <td>0</td>\n",
       "      <td>00:03:01</td>\n",
       "    </tr>\n",
       "    <tr>\n",
       "      <th>3</th>\n",
       "      <td>20170503000004</td>\n",
       "      <td>05:58:00</td>\n",
       "      <td>06:02:56</td>\n",
       "      <td>0</td>\n",
       "      <td>0</td>\n",
       "      <td>00:04:56</td>\n",
       "    </tr>\n",
       "    <tr>\n",
       "      <th>4</th>\n",
       "      <td>20170503000005</td>\n",
       "      <td>09:13:43</td>\n",
       "      <td>09:17:01</td>\n",
       "      <td>1</td>\n",
       "      <td>0</td>\n",
       "      <td>00:03:18</td>\n",
       "    </tr>\n",
       "  </tbody>\n",
       "</table>\n",
       "</div>"
      ],
      "text/plain": [
       "          session session_start_text session_end_text  clickouts  booking  \\\n",
       "0  20170503000001           06:11:53         06:15:11          3        0   \n",
       "1  20170503000002           21:06:41         21:08:23          3        0   \n",
       "2  20170503000003           12:03:01         12:06:02          3        0   \n",
       "3  20170503000004           05:58:00         06:02:56          0        0   \n",
       "4  20170503000005           09:13:43         09:17:01          1        0   \n",
       "\n",
       "  online_time  \n",
       "0    00:03:18  \n",
       "1    00:01:42  \n",
       "2    00:03:01  \n",
       "3    00:04:56  \n",
       "4    00:03:18  "
      ]
     },
     "execution_count": 153,
     "metadata": {},
     "output_type": "execute_result"
    }
   ],
   "source": [
    "# adding online duration column\n",
    "df1=df\n",
    "df1[\"online_time\"] = pd.to_datetime(df1.session_end_text) - pd.to_datetime(df1.session_start_text)\n",
    "df1.head()"
   ]
  },
  {
   "cell_type": "code",
   "execution_count": 154,
   "metadata": {},
   "outputs": [
    {
     "name": "stdout",
     "output_type": "stream",
     "text": [
      "0 days 00:06:18\n",
      "-1 days +00:01:39\n",
      "8\n",
      "0\n"
     ]
    }
   ],
   "source": [
    "print (max(df1.online_time))\n",
    "print (min(df1.online_time))\n",
    "\n",
    "print (max(df1.clickouts))\n",
    "print (min(df1.clickouts))\n"
   ]
  },
  {
   "cell_type": "code",
   "execution_count": 155,
   "metadata": {},
   "outputs": [
    {
     "name": "stdout",
     "output_type": "stream",
     "text": [
      "          session session_start_text session_end_text  clickouts  booking  \\\n",
      "0  20170503000001           06:11:53         06:15:11          3        0   \n",
      "1  20170503000002           21:06:41         21:08:23          3        0   \n",
      "2  20170503000003           12:03:01         12:06:02          3        0   \n",
      "3  20170503000004           05:58:00         06:02:56          0        0   \n",
      "4  20170503000005           09:13:43         09:17:01          1        0   \n",
      "\n",
      "  online_time       num  mins  \n",
      "0    00:03:18  3.300000     3  \n",
      "1    00:01:42  1.700000     1  \n",
      "2    00:03:01  3.016667     3  \n",
      "3    00:04:56  4.933333     4  \n",
      "4    00:03:18  3.300000     3  \n"
     ]
    },
    {
     "data": {
      "text/plain": [
       "session                         int64\n",
       "session_start_text             object\n",
       "session_end_text               object\n",
       "clickouts                       int64\n",
       "booking                         int64\n",
       "online_time           timedelta64[ns]\n",
       "num                           float64\n",
       "mins                            int64\n",
       "dtype: object"
      ]
     },
     "execution_count": 155,
     "metadata": {},
     "output_type": "execute_result"
    }
   ],
   "source": [
    "df1['num'] = df1['online_time'].dt.total_seconds().div(60).astype(float)\n",
    "df1['mins'] = df1['online_time'].dt.total_seconds().div(60).astype(int)\n",
    "print (df1.head())\n",
    "df1.dtypes"
   ]
  },
  {
   "cell_type": "code",
   "execution_count": 156,
   "metadata": {},
   "outputs": [
    {
     "data": {
      "text/html": [
       "<div>\n",
       "<style scoped>\n",
       "    .dataframe tbody tr th:only-of-type {\n",
       "        vertical-align: middle;\n",
       "    }\n",
       "\n",
       "    .dataframe tbody tr th {\n",
       "        vertical-align: top;\n",
       "    }\n",
       "\n",
       "    .dataframe thead th {\n",
       "        text-align: right;\n",
       "    }\n",
       "</style>\n",
       "<table border=\"1\" class=\"dataframe\">\n",
       "  <thead>\n",
       "    <tr style=\"text-align: right;\">\n",
       "      <th></th>\n",
       "      <th>booking</th>\n",
       "      <th>session</th>\n",
       "      <th>clickouts</th>\n",
       "      <th>num</th>\n",
       "      <th>mins</th>\n",
       "    </tr>\n",
       "  </thead>\n",
       "  <tbody>\n",
       "    <tr>\n",
       "      <th>0</th>\n",
       "      <td>0</td>\n",
       "      <td>2.017050e+13</td>\n",
       "      <td>2.502491</td>\n",
       "      <td>0.946459</td>\n",
       "      <td>0.453559</td>\n",
       "    </tr>\n",
       "    <tr>\n",
       "      <th>1</th>\n",
       "      <td>1</td>\n",
       "      <td>2.017050e+13</td>\n",
       "      <td>2.323681</td>\n",
       "      <td>3.055377</td>\n",
       "      <td>2.588418</td>\n",
       "    </tr>\n",
       "  </tbody>\n",
       "</table>\n",
       "</div>"
      ],
      "text/plain": [
       "   booking       session  clickouts       num      mins\n",
       "0        0  2.017050e+13   2.502491  0.946459  0.453559\n",
       "1        1  2.017050e+13   2.323681  3.055377  2.588418"
      ]
     },
     "execution_count": 156,
     "metadata": {},
     "output_type": "execute_result"
    }
   ],
   "source": [
    "# basic groupby by averaging: basic descriptive analysis\n",
    "\n",
    "d_temp = df1.groupby('booking').mean().reset_index()\n",
    "d_temp\n",
    "\n",
    "# clickouts is a poor indicator of bookings.\n",
    "# the average minutes user has spent on the platform is considerably more for those who booked a room\n",
    "# Goes to say that the more time spent the more likely that the user will book the room"
   ]
  },
  {
   "cell_type": "code",
   "execution_count": 157,
   "metadata": {},
   "outputs": [
    {
     "data": {
      "text/html": [
       "<div>\n",
       "<style scoped>\n",
       "    .dataframe tbody tr th:only-of-type {\n",
       "        vertical-align: middle;\n",
       "    }\n",
       "\n",
       "    .dataframe tbody tr th {\n",
       "        vertical-align: top;\n",
       "    }\n",
       "\n",
       "    .dataframe thead th {\n",
       "        text-align: right;\n",
       "    }\n",
       "</style>\n",
       "<table border=\"1\" class=\"dataframe\">\n",
       "  <thead>\n",
       "    <tr style=\"text-align: right;\">\n",
       "      <th></th>\n",
       "      <th>booking</th>\n",
       "      <th>session</th>\n",
       "      <th>clickouts</th>\n",
       "      <th>num</th>\n",
       "      <th>mins</th>\n",
       "    </tr>\n",
       "  </thead>\n",
       "  <tbody>\n",
       "    <tr>\n",
       "      <th>0</th>\n",
       "      <td>0</td>\n",
       "      <td>20170503004995</td>\n",
       "      <td>2</td>\n",
       "      <td>3.016667</td>\n",
       "      <td>3</td>\n",
       "    </tr>\n",
       "    <tr>\n",
       "      <th>1</th>\n",
       "      <td>1</td>\n",
       "      <td>20170503005010</td>\n",
       "      <td>2</td>\n",
       "      <td>3.150000</td>\n",
       "      <td>3</td>\n",
       "    </tr>\n",
       "  </tbody>\n",
       "</table>\n",
       "</div>"
      ],
      "text/plain": [
       "   booking         session  clickouts       num  mins\n",
       "0        0  20170503004995          2  3.016667     3\n",
       "1        1  20170503005010          2  3.150000     3"
      ]
     },
     "execution_count": 157,
     "metadata": {},
     "output_type": "execute_result"
    }
   ],
   "source": [
    "# can be the median! \n",
    "d_temp2 = df1.groupby('booking').median().reset_index()\n",
    "d_temp2"
   ]
  },
  {
   "cell_type": "code",
   "execution_count": 158,
   "metadata": {},
   "outputs": [
    {
     "name": "stdout",
     "output_type": "stream",
     "text": [
      "    mins  session  session_start_text  session_end_text  clickouts  booking  \\\n",
      "0  -1438        4                   4                 4          4        4   \n",
      "1  -1437        4                   4                 4          4        4   \n",
      "2  -1436        4                   4                 4          4        4   \n",
      "3  -1434        1                   1                 1          1        1   \n",
      "4      0      252                 252               252        252      252   \n",
      "5      1     1347                1347              1347       1347     1347   \n",
      "6      2     3225                3225              3225       3225     3225   \n",
      "7      3     3460                3460              3460       3460     3460   \n",
      "8      4     1428                1428              1428       1428     1428   \n",
      "9      5      261                 261               261        261      261   \n",
      "10     6       14                  14                14         14       14   \n",
      "\n",
      "    online_time   num  \n",
      "0             4     4  \n",
      "1             4     4  \n",
      "2             4     4  \n",
      "3             1     1  \n",
      "4           252   252  \n",
      "5          1347  1347  \n",
      "6          3225  3225  \n",
      "7          3460  3460  \n",
      "8          1428  1428  \n",
      "9           261   261  \n",
      "10           14    14  \n"
     ]
    },
    {
     "data": {
      "text/plain": [
       "(array([2.930e+02, 1.352e+03, 3.441e+03, 3.293e+03, 0.000e+00, 1.380e+03,\n",
       "        2.290e+02, 1.100e+01, 0.000e+00, 1.000e+00]),\n",
       " array([0. , 0.8, 1.6, 2.4, 3.2, 4. , 4.8, 5.6, 6.4, 7.2, 8. ]),\n",
       " <a list of 10 Patch objects>)"
      ]
     },
     "execution_count": 158,
     "metadata": {},
     "output_type": "execute_result"
    },
    {
     "data": {
      "image/png": "[encoded data removed]",
      "text/plain": [
       "<Figure size 432x288 with 1 Axes>"
      ]
     },
     "metadata": {
      "needs_background": "light"
     },
     "output_type": "display_data"
    }
   ],
   "source": [
    "# there are negative mins! --> uncleaned data !!!  13 such entries!\n",
    "d_temp3 = df1.groupby('mins').count().reset_index()\n",
    "print(d_temp3)\n",
    "plt.hist(df1.clickouts)\n",
    "\n",
    "# looks more or less normally distributed"
   ]
  },
  {
   "cell_type": "code",
   "execution_count": 159,
   "metadata": {},
   "outputs": [
    {
     "data": {
      "text/plain": [
       "(array([9033.,    0.,    0.,    0.,    0.,    0.,    0.,    0.,    0.,\n",
       "         967.]),\n",
       " array([0. , 0.1, 0.2, 0.3, 0.4, 0.5, 0.6, 0.7, 0.8, 0.9, 1. ]),\n",
       " <a list of 10 Patch objects>)"
      ]
     },
     "execution_count": 159,
     "metadata": {},
     "output_type": "execute_result"
    },
    {
     "data": {
      "image/png": "[encoded data removed]",
      "text/plain": [
       "<Figure size 432x288 with 1 Axes>"
      ]
     },
     "metadata": {
      "needs_background": "light"
     },
     "output_type": "display_data"
    }
   ],
   "source": [
    "plt.hist(df1.booking)"
   ]
  },
  {
   "cell_type": "code",
   "execution_count": 160,
   "metadata": {},
   "outputs": [
    {
     "name": "stderr",
     "output_type": "stream",
     "text": [
      "/Users/niveda.sridhar/anaconda3/lib/python3.7/site-packages/pandasql/sqldf.py:121: UserWarning: the 'timedelta' type is not supported, and will be written as integer values (ns frequency) to the database.\n",
      "  index=not any(name is None for name in df.index.names))  # load index into db if all levels are named\n",
      "/Users/niveda.sridhar/anaconda3/lib/python3.7/site-packages/pandasql/sqldf.py:121: UserWarning: the 'timedelta' type is not supported, and will be written as integer values (ns frequency) to the database.\n",
      "  index=not any(name is None for name in df.index.names))  # load index into db if all levels are named\n"
     ]
    },
    {
     "name": "stdout",
     "output_type": "stream",
     "text": [
      "   mins   cs\n",
      "0     1   86\n",
      "1     2  280\n",
      "2     3  341\n",
      "3     4  157\n",
      "4     5   40\n",
      "5     6    1 \n",
      "\n",
      "   mins    cs\n",
      "0     1  1261\n",
      "1     2  2945\n",
      "2     3  3119\n",
      "3     4  1271\n",
      "4     5   221\n",
      "5     6    13 \n",
      "\n",
      "0    0.068200\n",
      "1    0.095076\n",
      "2    0.109330\n",
      "3    0.123525\n",
      "4    0.180995\n",
      "5    0.076923\n",
      "Name: cs, dtype: float64\n"
     ]
    },
    {
     "data": {
      "image/png": "[encoded data removed]",
      "text/plain": [
       "<Figure size 432x288 with 1 Axes>"
      ]
     },
     "metadata": {
      "needs_background": "light"
     },
     "output_type": "display_data"
    }
   ],
   "source": [
    "# Analysis based on the time spent on the platform\n",
    "a = (\"\"\"select distinct mins, count(session) as cs from df1 where booking = 1 and mins > 0 group by 1\"\"\" )\n",
    "aa = ps.sqldf(a, locals())\n",
    "print (aa, \"\\n\")\n",
    "\n",
    "a1 = (\"\"\"select mins, count(session) as cs from df1 where booking = 0 and mins > 0 group by 1\"\"\" )\n",
    "aa1 = ps.sqldf(a1, locals())\n",
    "print(aa1, \"\\n\")\n",
    "\n",
    "#ratio\n",
    "aa2 = aa.cs/aa1.cs\n",
    "print(aa2)\n",
    "\n",
    "# The ratio looks very similar\n",
    "\n",
    "barWidth = 0.9\n",
    "\n",
    "plt.bar(aa.mins, aa.cs, width = barWidth, color = (0.3,0.1,0.4,0.6))\n",
    "plt.bar(aa1.mins, aa1.cs, width = barWidth, color = (0.3,0.9,0.4,0.6))\n",
    "\n",
    "plt.show()"
   ]
  },
  {
   "cell_type": "code",
   "execution_count": 161,
   "metadata": {},
   "outputs": [
    {
     "name": "stderr",
     "output_type": "stream",
     "text": [
      "/Users/niveda.sridhar/anaconda3/lib/python3.7/site-packages/pandasql/sqldf.py:121: UserWarning: the 'timedelta' type is not supported, and will be written as integer values (ns frequency) to the database.\n",
      "  index=not any(name is None for name in df.index.names))  # load index into db if all levels are named\n",
      "/Users/niveda.sridhar/anaconda3/lib/python3.7/site-packages/pandasql/sqldf.py:121: UserWarning: the 'timedelta' type is not supported, and will be written as integer values (ns frequency) to the database.\n",
      "  index=not any(name is None for name in df.index.names))  # load index into db if all levels are named\n"
     ]
    },
    {
     "name": "stdout",
     "output_type": "stream",
     "text": [
      "   clickouts   cs\n",
      "0          0   23\n",
      "1          1  129\n",
      "2          2  338\n",
      "3          3  277\n",
      "4          4  118\n",
      "5          5   19\n",
      "6          6    1 \n",
      "\n",
      "   clickouts    cs\n",
      "0          0   207\n",
      "1          1  1196\n",
      "2          2  3034\n",
      "3          3  2937\n",
      "4          4  1239\n",
      "5          5   206\n",
      "6          6    10\n",
      "7          8     1 \n",
      "\n",
      "0    0.068200\n",
      "1    0.095076\n",
      "2    0.109330\n",
      "3    0.123525\n",
      "4    0.180995\n",
      "5    0.076923\n",
      "Name: cs, dtype: float64\n"
     ]
    },
    {
     "data": {
      "image/png": "[encoded data removed]",
      "text/plain": [
       "<Figure size 432x288 with 1 Axes>"
      ]
     },
     "metadata": {
      "needs_background": "light"
     },
     "output_type": "display_data"
    }
   ],
   "source": [
    "# Analysis based on the clickouts made by the user\n",
    "b = (\"\"\"select clickouts, count(session) as cs from df1 where booking = 1 and mins > 0 group by 1\"\"\" )\n",
    "bb = ps.sqldf(b, locals())\n",
    "print(bb, \"\\n\")\n",
    "\n",
    "# n two clikouts have all the \n",
    "\n",
    "b1 = (\"\"\"select clickouts, count(session) as cs from df1 where booking = 0 and mins > 0 group by 1\"\"\" )\n",
    "bb1 = ps.sqldf(b1, locals())\n",
    "print(bb1,\"\\n\")\n",
    "\n",
    "#ratio\n",
    "bb2 = bb.cs/bb1.cs\n",
    "print(aa2)\n",
    "\n",
    "# The ratio looks very similar\n",
    "\n",
    "barWidth = 0.9\n",
    "\n",
    "plt.bar(bb.clickouts, bb.cs, width = barWidth, color = (0.3,0.1,0.4,0.6))\n",
    "plt.bar(bb1.clickouts, bb1.cs, width = barWidth, color = (0.3,0.9,0.4,0.6))\n",
    "\n",
    "plt.show()"
   ]
  },
  {
   "cell_type": "code",
   "execution_count": 49,
   "metadata": {},
   "outputs": [
    {
     "name": "stderr",
     "output_type": "stream",
     "text": [
      "/Users/niveda.sridhar/anaconda3/lib/python3.7/site-packages/ipykernel_launcher.py:4: DataConversionWarning: Data with input dtype int64, float64 were all converted to float64 by the scale function.\n",
      "  after removing the cwd from sys.path.\n"
     ]
    },
    {
     "name": "stdout",
     "output_type": "stream",
     "text": [
      "weights: \n",
      "[-0.01475661  0.00368841] \n",
      "\n",
      "Intercept: \n",
      "0.0967 \n",
      "\n",
      "R square value: \n",
      "0.0026369365916882877 \n",
      "\n"
     ]
    },
    {
     "data": {
      "text/plain": [
       "<matplotlib.axes._subplots.AxesSubplot at 0x1a1d402b70>"
      ]
     },
     "execution_count": 49,
     "metadata": {},
     "output_type": "execute_result"
    },
    {
     "data": {
      "image/png": "[encoded data removed]",
      "text/plain": [
       "<Figure size 432x288 with 1 Axes>"
      ]
     },
     "metadata": {
      "needs_background": "light"
     },
     "output_type": "display_data"
    }
   ],
   "source": [
    "# another approach that may help :: multivariable linear regression\n",
    "from sklearn.preprocessing import scale\n",
    "from sklearn.linear_model import LinearRegression\n",
    "\n",
    "X,Y= scale (df1[['clickouts','num']]), df1['booking']\n",
    "\n",
    "#df[['A', 'B']]\n",
    "\n",
    "linReg = LinearRegression(normalize = True)\n",
    "linReg.fit(X,Y)\n",
    "print('weights: ')\n",
    "print(linReg.coef_,\"\\n\")\n",
    "print('Intercept: ')\n",
    "print(linReg.intercept_,\"\\n\")\n",
    "\n",
    "#linReg.fig(X,y)\n",
    "print('R square value: ')\n",
    "print( linReg.score(X,Y),\"\\n\")\n",
    "\n",
    "\n",
    "sns.regplot(x=\"num\", y=\"booking\", data=df1)\n",
    "\n",
    "# the resulting R^2 value is too low thus it explains very little. \n",
    "# Not the best approach\n",
    "# Logistic regression may further help"
   ]
  },
  {
   "cell_type": "markdown",
   "metadata": {},
   "source": [
    "## Rough work"
   ]
  },
  {
   "cell_type": "code",
   "execution_count": 98,
   "metadata": {},
   "outputs": [
    {
     "name": "stderr",
     "output_type": "stream",
     "text": [
      "/Users/niveda.sridhar/anaconda3/lib/python3.7/site-packages/pandasql/sqldf.py:121: UserWarning: the 'timedelta' type is not supported, and will be written as integer values (ns frequency) to the database.\n",
      "  index=not any(name is None for name in df.index.names))  # load index into db if all levels are named\n"
     ]
    },
    {
     "data": {
      "image/png": "[encoded data removed]",
      "text/plain": [
       "<Figure size 432x288 with 1 Axes>"
      ]
     },
     "metadata": {
      "needs_background": "light"
     },
     "output_type": "display_data"
    }
   ],
   "source": [
    "g11 = (\"\"\"select clickouts, mins from df1 where booking = 0 and mins > 0\"\"\" )\n",
    "g1 = ps.sqldf(g11, locals())\n",
    "g11 = (\"\"\"select clickouts, mins from df1 where booking = 0 and mins > 0\"\"\" )\n",
    "g1 = ps.sqldf(g11, locals())\n",
    "plt.scatter(g1.clickouts, g1.mins)\n",
    "plt.title('Scatter plot')\n",
    "plt.xlabel('clickouts')\n",
    "plt.ylabel('mins')\n",
    "plt.show()"
   ]
  },
  {
   "cell_type": "code",
   "execution_count": 99,
   "metadata": {},
   "outputs": [
    {
     "name": "stderr",
     "output_type": "stream",
     "text": [
      "/Users/niveda.sridhar/anaconda3/lib/python3.7/site-packages/pandasql/sqldf.py:121: UserWarning: the 'timedelta' type is not supported, and will be written as integer values (ns frequency) to the database.\n",
      "  index=not any(name is None for name in df.index.names))  # load index into db if all levels are named\n"
     ]
    },
    {
     "data": {
      "image/png": "[encoded data removed]",
      "text/plain": [
       "<Figure size 432x288 with 1 Axes>"
      ]
     },
     "metadata": {
      "needs_background": "light"
     },
     "output_type": "display_data"
    }
   ],
   "source": [
    "g11 = (\"\"\"select clickouts, mins from df1 where booking = 1 and mins > 0\"\"\" )\n",
    "g1 = ps.sqldf(g11, locals())\n",
    "\n",
    "plt.scatter(g1.clickouts, g1.mins)\n",
    "plt.title('Scatter plot')\n",
    "plt.xlabel('clickouts')\n",
    "plt.ylabel('mins')\n",
    "plt.show()"
   ]
  },
  {
   "cell_type": "code",
   "execution_count": 96,
   "metadata": {},
   "outputs": [
    {
     "name": "stderr",
     "output_type": "stream",
     "text": [
      "/Users/niveda.sridhar/anaconda3/lib/python3.7/site-packages/pandasql/sqldf.py:121: UserWarning: the 'timedelta' type is not supported, and will be written as integer values (ns frequency) to the database.\n",
      "  index=not any(name is None for name in df.index.names))  # load index into db if all levels are named\n",
      "/Users/niveda.sridhar/anaconda3/lib/python3.7/site-packages/pandasql/sqldf.py:121: UserWarning: the 'timedelta' type is not supported, and will be written as integer values (ns frequency) to the database.\n",
      "  index=not any(name is None for name in df.index.names))  # load index into db if all levels are named\n"
     ]
    },
    {
     "data": {
      "image/png": "[encoded data removed]",
      "text/plain": [
       "<Figure size 432x288 with 1 Axes>"
      ]
     },
     "metadata": {
      "needs_background": "light"
     },
     "output_type": "display_data"
    }
   ],
   "source": [
    "g11 = (\"\"\"select clickouts, mins from df1 where booking = 0 and mins > 0\"\"\" )\n",
    "g1 = ps.sqldf(g11, locals())\n",
    "\n",
    "g12 = (\"\"\"select clickouts, mins from df1 where booking = 1 and mins > 0\"\"\" )\n",
    "g2 = ps.sqldf(g12, locals())\n",
    "\n",
    "\n",
    "data = (g1, g2)\n",
    "colors = (\"red\", \"green\")\n",
    "groups = (\"no booking\", \"booked\")\n",
    "\n",
    "# Create plot\n",
    "fig = plt.figure()\n",
    "ax = fig.add_subplot(1, 1, 1, facecolor=\"1.0\")\n",
    "\n",
    "for data, color, group in zip(data, colors, groups):\n",
    "    x, y = data\n",
    "    ax.scatter(x, y, alpha=0.8, c=color, edgecolors='none', s=30, label=group)\n",
    "\n",
    "plt.title('Matplot scatter plot')\n",
    "plt.legend(loc=2)\n",
    "plt.show()\n"
   ]
  },
  {
   "cell_type": "code",
   "execution_count": 9,
   "metadata": {},
   "outputs": [
    {
     "name": "stderr",
     "output_type": "stream",
     "text": [
      "/Users/niveda.sridhar/anaconda3/lib/python3.7/site-packages/pandasql/sqldf.py:121: UserWarning: the 'timedelta' type is not supported, and will be written as integer values (ns frequency) to the database.\n",
      "  index=not any(name is None for name in df.index.names))  # load index into db if all levels are named\n"
     ]
    },
    {
     "data": {
      "image/png": "[encoded data removed]",
      "text/plain": [
       "<Figure size 432x288 with 1 Axes>"
      ]
     },
     "metadata": {
      "needs_background": "light"
     },
     "output_type": "display_data"
    }
   ],
   "source": [
    "sql7 = (\"\"\"select session, online_time from df1 \"\"\" )\n",
    "#print(ps.sqldf(sql7, locals()))\n",
    "dfa = ps.sqldf(sql7, locals())\n",
    "\n",
    "\n",
    "plt.title(\"Performance of Campaings (evolution over the weeks)\")\n",
    "plt.xlabel('Week number')\n",
    "plt.ylabel('Visitors')\n",
    "plt.plot(dfa.session, dfa.online_time, label='Aldebaran')\n",
    "\n",
    "plt.legend()\n",
    "plt.show()\n"
   ]
  }
 ],
 "metadata": {
  "kernelspec": {
   "display_name": "Python 3",
   "language": "python",
   "name": "python3"
  },
  "language_info": {
   "codemirror_mode": {
    "name": "ipython",
    "version": 3
   },
   "file_extension": ".py",
   "mimetype": "text/x-python",
   "name": "python",
   "nbconvert_exporter": "python",
   "pygments_lexer": "ipython3",
   "version": "3.7.3"
  }
 },
 "nbformat": 4,
 "nbformat_minor": 2
}
